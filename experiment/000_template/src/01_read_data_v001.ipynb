{
 "cells": [
  {
   "cell_type": "markdown",
   "id": "319ce537-6246-4b3d-b8f6-af70bdab6067",
   "metadata": {},
   "source": [
    "# 0. prepairation"
   ]
  },
  {
   "cell_type": "markdown",
   "id": "ea49f6bb-01c8-4f53-b1c1-5688c78a2503",
   "metadata": {},
   "source": [
    "## 0.1. import packages"
   ]
  },
  {
   "cell_type": "code",
   "execution_count": 1,
   "id": "e01b1745-df53-41e3-8f8e-d97d74baf5bc",
   "metadata": {},
   "outputs": [],
   "source": [
    "import sys\n",
    "import os"
   ]
  },
  {
   "cell_type": "code",
   "execution_count": 2,
   "id": "672438b9-f629-4313-8d9f-fcdfc57cb6ca",
   "metadata": {},
   "outputs": [],
   "source": [
    "import time\n",
    "import datetime\n",
    "from dateutil.relativedelta import relativedelta"
   ]
  },
  {
   "cell_type": "code",
   "execution_count": 3,
   "id": "874e9584-fe77-49cc-8a69-9d9640f7f535",
   "metadata": {},
   "outputs": [],
   "source": [
    "import numpy as np\n",
    "import pandas as pd\n",
    "\n",
    "import glob\n",
    "import pickle\n",
    "import yaml"
   ]
  },
  {
   "cell_type": "code",
   "execution_count": 4,
   "id": "4dfe53bb-f17a-4a35-b5ac-db28666dbd93",
   "metadata": {},
   "outputs": [],
   "source": [
    "import re\n",
    "import itertools\n",
    "from tqdm import tqdm"
   ]
  },
  {
   "cell_type": "code",
   "execution_count": 5,
   "id": "3a58c5eb-3056-4dc6-a536-5cacf63610b8",
   "metadata": {},
   "outputs": [],
   "source": [
    "from logging import getLogger, FileHandler, Formatter # 途中で誤ってloggingを汚さないように個別にimport\n",
    "from logging import DEBUG, INFO, WARNING, ERROR, CRITICAL "
   ]
  },
  {
   "cell_type": "markdown",
   "id": "c590ce3f-8d5c-47e5-8ecd-d7556d0f547d",
   "metadata": {},
   "source": [
    "## 0.2. append system path"
   ]
  },
  {
   "cell_type": "code",
   "execution_count": 6,
   "id": "37d6294f-894b-406a-9868-8c5fe41299e8",
   "metadata": {},
   "outputs": [],
   "source": [
    "path_sys_base=\"/home/jovyan/work\""
   ]
  },
  {
   "cell_type": "markdown",
   "id": "f8477c0e-e533-4e4a-a22a-46ba761bf7de",
   "metadata": {},
   "source": [
    "## 0.3. define classes"
   ]
  },
  {
   "cell_type": "code",
   "execution_count": 7,
   "id": "9251d9cb-4d00-42be-80e5-bc32e1041972",
   "metadata": {},
   "outputs": [],
   "source": [
    "class DataConverter(): \n",
    "    def __init__(self):\n",
    "        pass\n",
    "\n",
    "    def get_sample_dtype_def(self): \n",
    "        dtype_def ={\n",
    "            \"int64\": [\"Marital_Status\", \"Occupation\"], \n",
    "            \"float64\": [\"Purchase\"], \n",
    "            \"datetime64\": [\"hogehoge\"]\n",
    "        }\n",
    "    \n",
    "    def convert_dtype_with_dtype_def(self, df_in, dtype_def): \n",
    "        for clnm in df_in.columns: \n",
    "            df_in[clnm] = df_in[clnm].astype(\"str\")\n",
    "        \n",
    "        for dtype, clnms in dtype_def.items(): \n",
    "            if dtype == \"datetime64\":\n",
    "                for clnm in clnms: \n",
    "                    df_in[clnm] = pd.to_datetime(df_in[clnm])\n",
    "            else: \n",
    "                for clnm in clnms: \n",
    "                    df_in[clnm] = df_in[clnm].astype(dtype)\n",
    "\n",
    "    def invert_dict_key_value(self, in_dict, value_type=\"list\"): \n",
    "        if value_type==\"str\":\n",
    "            ## key に対して Value　が string であるようなdictionary に対して、 key と Value を反転させる\n",
    "            grp_val_unique = pd.Series([v for k, v in in_dict.items()]).unique()\n",
    "            \n",
    "            rev_dict = {}\n",
    "            for grp_val in grp_val_unique: \n",
    "                rev_dict[grp_val] = [k for k, v in in_dict.items() if v==grp_val]\n",
    "        elif value_type==\"list\":\n",
    "            ## key に対して Value　が list であるようなdictionary に対して、 key と Value を反転させる\n",
    "            grp_val_unique = []\n",
    "            for k, v in in_dict.items(): \n",
    "                grp_val_unique.extend(pd.Series(v).unique().tolist())\n",
    "            grp_val_unique = pd.Series(grp_val_unique).unique()\n",
    "            \n",
    "            rev_dict = {}\n",
    "            for grp_val in grp_val_unique: \n",
    "                rev_dict[grp_val] = [k for k, v in in_dict.items() if grp_val in v]\n",
    "        else: \n",
    "            print(\"value_type must be \\\"str\\\" or \\\"list\\\"!\")\n",
    "        return rev_dict\n"
   ]
  },
  {
   "cell_type": "code",
   "execution_count": 8,
   "id": "64a74e74-bb66-4d0f-ba07-08f6fe0d5d50",
   "metadata": {},
   "outputs": [],
   "source": [
    "class GroupingValue():\n",
    "    def __init__(self, grouping_def_): \n",
    "        self._grouping_def_ = grouping_def_\n",
    "\n",
    "    def get_sample_grouping_def_(self): \n",
    "        ret_dict_num = {0.2:\"GRP01\", 0.95:\"GRP02\", 1.0:\"GRP03\"}\n",
    "        ret_dict_cat = {\n",
    "            \"A\":\"GRP01\", \n",
    "            \"B\":\"GRP01\", \n",
    "            \"C\":\"GRP01\", \n",
    "            \"D\":\"GRP02\", \n",
    "            \"E\":\"GRP02\", \n",
    "            \"F\":\"GRP03\"\n",
    "        }\n",
    "        return ret_dict_cat, ret_dict_num\n",
    "\n",
    "    def grouping_num(self, in_num, is_debug=False):\n",
    "        \n",
    "        thresholds = [k for k, v in self._grouping_def_.items()]\n",
    "        \n",
    "        lt_thrshld_list = [k for k, v in self._grouping_def_.items() if in_num <= k]\n",
    "        \n",
    "        if len(lt_thrshld_list) > 0: \n",
    "            matched_threshold = min(lt_thrshld_list)\n",
    "            ret_val = self._grouping_def_[matched_threshold]\n",
    "        else: \n",
    "            matched_threshold = None\n",
    "            ret_val = \"other\"\n",
    "        \n",
    "        if is_debug:\n",
    "            return ret_val, matched_threshold, in_num\n",
    "        else: \n",
    "            return ret_val\n",
    "\n",
    "    def grouping_cat(self, in_cat, is_debug=False):\n",
    "\n",
    "        if in_cat in [s for s in self._grouping_def_.keys()]: \n",
    "            ret_val = self._grouping_def_[in_cat]\n",
    "        else: \n",
    "            ret_val = \"other\"\n",
    "        \n",
    "        if is_debug:\n",
    "            return ret_val, in_cat\n",
    "        else: \n",
    "            return ret_val\n"
   ]
  },
  {
   "cell_type": "code",
   "execution_count": 9,
   "id": "c0e5599f-1b93-4d57-9641-5763b8ed6bd3",
   "metadata": {},
   "outputs": [],
   "source": [
    "class BasicStatistics(): \n",
    "    def __init__(self):\n",
    "        pass\n",
    "\n",
    "\n",
    "    def get_unique_and_null_count(self, df_in): \n",
    "    \n",
    "        unq_ ={}\n",
    "        for i1, clnm in enumerate(df_in.columns): \n",
    "            i1\n",
    "            unq_[(i1, clnm)] = pd.DataFrame(\n",
    "                [\n",
    "                    {\n",
    "                        \"null_count\": df_in[clnm].isna().sum(), \n",
    "                        \"null_ratio\": df_in[clnm].isna().sum()/len(df_in), \n",
    "                        \"unique\": len(df_in.groupby(clnm).count())\n",
    "                    }\n",
    "                ]\n",
    "            )\n",
    "        \n",
    "        return pd.concat(unq_)\n",
    "\n",
    "\n",
    "    def get_unique_value_count(self, df_in, is_object_only=True): \n",
    "        clnms_orig = pd.Series(df_in.columns)\n",
    "        cond_raw = df_in.dtypes == \"object\"\n",
    "        cond_idx = pd.Series({i1: is_obj for i1, (clnm, is_obj)  in enumerate(cond_raw.items())})\n",
    "        if is_object_only: \n",
    "            clnms_iter = clnms_orig[cond_idx]\n",
    "        else: \n",
    "            clnms_iter = clnms_orig\n",
    "\n",
    "        df_value_COUNT_ ={}\n",
    "        for i1, clnm in clnms_iter.items():\n",
    "            df_tmp = df_in.reset_index().groupby([clnm]).count().loc[:, [\"index\"]].reset_index()\n",
    "            df_tmp.columns =[\"value\", \"COUNT\"]\n",
    "            \n",
    "            df_value_COUNT_[(i1, clnm)] = df_tmp.sort_values([\"COUNT\"], ascending=[False]).reset_index(drop=True).rename(index = lambda s:s+1)\n",
    "\n",
    "        df_value_COUNT = pd.concat(df_value_COUNT_).reset_index().rename(columns={\"level_0\":\"column_id\", \"level_1\":\"column\", \"level_2\":\"seq\"})\n",
    "\n",
    "        return df_value_COUNT.sort_values([\"column_id\", \"COUNT\"], ascending=[True, False]).reset_index(drop=True)\n",
    "\n",
    "\n",
    "    def get_and_shape_unique_value_count(self, df_in, max_seq=50): \n",
    "        df_unique = self.get_unique_value_count(df_in)\n",
    "    \n",
    "        unique_values_top50_ = {}\n",
    "        for grpby_val, df_unique_sub in df_unique.groupby([\"column_id\", \"column\"]): \n",
    "            unique_values_top50_[grpby_val] = pd.DataFrame(\n",
    "                df_unique_sub.reset_index(drop=True).loc[:(max_seq-1), :].apply(lambda s:\"{}: {:,d}\".format(s[\"value\"], s[\"COUNT\"]), axis=1)\n",
    "            ).T\n",
    "            \n",
    "        return pd.concat(unique_values_top50_)\n",
    "\n",
    "\n",
    "    def get_stats_numerical_column(self, df_in, quantile_points=[s/10 for s in range(0, 11, 1)]): \n",
    "    \n",
    "        clnms_orig = pd.Series(df_in.columns)\n",
    "        cond_raw = df_in.dtypes != \"object\"\n",
    "        cond_idx = pd.Series({i1: is_obj for i1, (clnm, is_obj)  in enumerate(cond_raw.items())})\n",
    "        \n",
    "        df_desc_ ={}\n",
    "        for i1, clnm in clnms_orig[cond_idx].items(): \n",
    "            tmp_dict = {\"{}%\".format(10*i1):qt for i1, qt in enumerate(np.quantile(df_in.loc[:, clnm], q=quantile_points))}\n",
    "            tmp_dict.update(\n",
    "                {\n",
    "                    \"mean\": np.mean(df_in.loc[:, clnm]), \n",
    "                    \"std\": np.std(df_in.loc[:, clnm])\n",
    "                }\n",
    "            )\n",
    "            \n",
    "            df_desc_[(i1, clnm)] = pd.DataFrame([tmp_dict])\n",
    "        \n",
    "        return pd.concat(df_desc_)"
   ]
  },
  {
   "cell_type": "markdown",
   "id": "69f95d3f-38ad-4224-b7ce-c21b18adbac0",
   "metadata": {},
   "source": [
    "## 0.4. define functions"
   ]
  },
  {
   "cell_type": "markdown",
   "id": "9aa654e2-0853-4c15-87a3-4cba945e4cc7",
   "metadata": {},
   "source": [
    "## 0.5. set notebooks parameters"
   ]
  },
  {
   "cell_type": "code",
   "execution_count": 10,
   "id": "9f5e999e-0db8-4b14-a348-4c83118fc8f1",
   "metadata": {},
   "outputs": [],
   "source": [
    "pd.set_option('display.max_rows', 500)\n",
    "pd.set_option('display.max_columns', 500)"
   ]
  },
  {
   "cell_type": "markdown",
   "id": "b335ab77-8e18-4df7-9d91-4e32f01b8f66",
   "metadata": {},
   "source": [
    "# 1. constants"
   ]
  },
  {
   "cell_type": "code",
   "execution_count": 11,
   "id": "27947793-fc9f-4ffc-b8c8-5a150318321f",
   "metadata": {},
   "outputs": [],
   "source": [
    "process_id = \"01_read_data_v001\"\n",
    "exec_st_datetime_string = datetime.datetime.now().strftime(\"%Y%m%d_%H%M%S\")"
   ]
  },
  {
   "cell_type": "markdown",
   "id": "3fad2ff1-b3fa-49d1-b678-0f874ad00730",
   "metadata": {},
   "source": [
    "# 2. instantiate classes"
   ]
  },
  {
   "cell_type": "code",
   "execution_count": 12,
   "id": "3ece224b-fd90-4626-ab14-8641ec8b8758",
   "metadata": {},
   "outputs": [],
   "source": [
    "flnm_log = \"../log/{}_{}.log\".format(process_id, exec_st_datetime_string)"
   ]
  },
  {
   "cell_type": "code",
   "execution_count": 13,
   "id": "93ae668e-0fac-4003-adf0-0423028f2292",
   "metadata": {},
   "outputs": [],
   "source": [
    "cstmlggr = getLogger()\n",
    "cstmlggr.setLevel(INFO)\n",
    "\n",
    "handler=FileHandler(flnm_log)\n",
    "cstmlggr.addHandler(handler)\n",
    "\n",
    "## ログファイルフォーマットの定義\n",
    "handler.setFormatter(Formatter(\"%(asctime)s, %(levelname)s, %(filename)s, %(name)s, %(funcName)s, %(lineno)s, %(message)s\"))"
   ]
  },
  {
   "cell_type": "code",
   "execution_count": 14,
   "id": "da63aaaf-cb7e-4f04-98d9-520498256c72",
   "metadata": {},
   "outputs": [],
   "source": [
    "cstmlggr.info(\"start\")"
   ]
  },
  {
   "cell_type": "markdown",
   "id": "b49221a8-2d03-4abb-a5fc-0ad832b061fc",
   "metadata": {},
   "source": [
    "# 3. read files and convert data type"
   ]
  },
  {
   "cell_type": "code",
   "execution_count": 15,
   "id": "e574c733-9f94-4560-8571-ed0e56972a13",
   "metadata": {},
   "outputs": [],
   "source": [
    "path_in_data = \"{}/data_management/00_orig/walmart\".format(path_sys_base)\n",
    "flnm_in_data = \"walmart.csv\""
   ]
  },
  {
   "cell_type": "code",
   "execution_count": 16,
   "id": "1d32bb59-5260-41b9-ac3f-e23a2841e54d",
   "metadata": {},
   "outputs": [],
   "source": [
    "df_walmart = pd.read_table(\n",
    "    \"{}/{}\".format(path_in_data, flnm_in_data), \n",
    "    delimiter=\",\", \n",
    "    header=0, \n",
    "    dtype=\"object\", \n",
    "    quotechar=\"\\\"\", \n",
    "    quoting=1, ## quoting = QUOTE_MINIMAL (0), QUOTE_ALL (1), QUOTE_NONNUMERIC (2) or QUOTE_NONE (3).\n",
    "    encoding=\"utf-8\"\n",
    ")\n"
   ]
  },
  {
   "cell_type": "markdown",
   "id": "65c72d87-6e24-4577-9bfa-6ba0d0a16a89",
   "metadata": {},
   "source": [
    "# 4. basic statistics"
   ]
  },
  {
   "cell_type": "code",
   "execution_count": 17,
   "id": "be0c9950-9482-45b1-8394-ca218a70bb4b",
   "metadata": {},
   "outputs": [],
   "source": [
    "bs = BasicStatistics()"
   ]
  },
  {
   "cell_type": "code",
   "execution_count": 18,
   "id": "459fbf36-3e20-43ee-b81d-0aa50c638df1",
   "metadata": {},
   "outputs": [],
   "source": [
    "df_describe_bf = pd.concat(\n",
    "    [\n",
    "        bs.get_unique_and_null_count(df_walmart), \n",
    "        bs.get_and_shape_unique_value_count(df_walmart, max_seq=10)\n",
    "    ], axis=1\n",
    ")"
   ]
  },
  {
   "cell_type": "code",
   "execution_count": 19,
   "id": "c3ce3bb6-3496-4ad2-a923-2a9e75580391",
   "metadata": {},
   "outputs": [],
   "source": [
    "df_describe_bf = df_describe_bf.reset_index().rename(columns={\"level_0\":\"column_id\", \"level_1\":\"column\", \"level_2\":\"DUMMY\"})\n",
    "df_describe_bf.columns = [str(s) for s in df_describe_bf.columns]"
   ]
  },
  {
   "cell_type": "markdown",
   "id": "70269559-86da-4f4d-9c32-0b408d1e3f88",
   "metadata": {},
   "source": [
    "# 4. dtype convert"
   ]
  },
  {
   "cell_type": "code",
   "execution_count": 20,
   "id": "823870b0-7e40-4632-ae0c-da5a8c48f539",
   "metadata": {},
   "outputs": [],
   "source": [
    "dc = DataConverter()"
   ]
  },
  {
   "cell_type": "markdown",
   "id": "e2b154e2-55b8-49e4-9c19-934738e988d3",
   "metadata": {},
   "source": [
    "## 4.0. test"
   ]
  },
  {
   "cell_type": "markdown",
   "id": "ac772aec-52ee-47c9-a1a2-b592330fe6a3",
   "metadata": {},
   "source": [
    "### 4.0.1. generate test data"
   ]
  },
  {
   "cell_type": "code",
   "execution_count": 21,
   "id": "7eec81b4-9932-4a7e-b1b4-a9f9a3cc0035",
   "metadata": {},
   "outputs": [],
   "source": [
    "# df_in = df_walmart.copy()\n",
    "\n",
    "rng = np.random.default_rng()\n",
    "numofrecord = 100\n",
    "df_in = pd.concat(\n",
    "    [\n",
    "        pd.DataFrame(pd.Series([s for s in range(0, numofrecord, 1)]), columns=[\"id\"]), \n",
    "        pd.DataFrame(pd.Series([rng.choice([chr(ord(\"A\")+s) for s in range(0, 26, 1)]) for s in range(0, numofrecord, 1)]), columns=[\"category\"]), \n",
    "        pd.DataFrame(pd.Series([pd.to_datetime(\"20240810\") + relativedelta(months=s) for s in range(0, numofrecord, 1)]), columns=[\"date\"]), \n",
    "        pd.DataFrame(pd.Series([int(rng.normal(1000, 10)) for s in range(0, numofrecord, 1)]), columns=[\"price\"])\n",
    "    ], axis=1\n",
    ")"
   ]
  },
  {
   "cell_type": "code",
   "execution_count": 22,
   "id": "74be270d-c594-49c9-bd04-663d646996a3",
   "metadata": {},
   "outputs": [
    {
     "data": {
      "text/plain": [
       "id                   int64\n",
       "category            object\n",
       "date        datetime64[ns]\n",
       "price                int64\n",
       "dtype: object"
      ]
     },
     "execution_count": 22,
     "metadata": {},
     "output_type": "execute_result"
    }
   ],
   "source": [
    "df_in.dtypes"
   ]
  },
  {
   "cell_type": "markdown",
   "id": "17de9992-0111-45ec-a329-ab338489f37d",
   "metadata": {},
   "source": [
    "### 4.0.2. convert to string "
   ]
  },
  {
   "cell_type": "code",
   "execution_count": 23,
   "id": "f84d0e71-39be-4b75-8488-e9a50c52f947",
   "metadata": {},
   "outputs": [],
   "source": [
    "dtype_def ={\n",
    "    \"int64\": [], \n",
    "    \"float64\": [], \n",
    "    \"datetime64\": []\n",
    "}\n",
    "\n",
    "dc.convert_dtype_with_dtype_def(df_in, dtype_def)"
   ]
  },
  {
   "cell_type": "code",
   "execution_count": 24,
   "id": "9eca6ac1-430c-447f-a55a-d79c04f53180",
   "metadata": {},
   "outputs": [
    {
     "data": {
      "text/plain": [
       "str"
      ]
     },
     "execution_count": 24,
     "metadata": {},
     "output_type": "execute_result"
    }
   ],
   "source": [
    "type(df_in.loc[0, \"date\"])"
   ]
  },
  {
   "cell_type": "markdown",
   "id": "6d6ae3ff-9c6d-4798-8ccb-09d4b3d02c42",
   "metadata": {},
   "source": [
    "### 4.0.3. convert to appropriate dtype"
   ]
  },
  {
   "cell_type": "code",
   "execution_count": 25,
   "id": "fb705462-e53d-4538-9d51-7e40b78a34d9",
   "metadata": {},
   "outputs": [],
   "source": [
    "dtype_def ={\n",
    "    \"int64\": [], \n",
    "    \"float64\": [\"price\"], \n",
    "    \"datetime64\": [\"date\"]\n",
    "}\n",
    "\n",
    "dc.convert_dtype_with_dtype_def(df_in, dtype_def)"
   ]
  },
  {
   "cell_type": "code",
   "execution_count": 26,
   "id": "64da7128-9e7f-4064-a77c-ae43d0dbd21e",
   "metadata": {},
   "outputs": [
    {
     "data": {
      "text/plain": [
       "id                  object\n",
       "category            object\n",
       "date        datetime64[ns]\n",
       "price              float64\n",
       "dtype: object"
      ]
     },
     "execution_count": 26,
     "metadata": {},
     "output_type": "execute_result"
    }
   ],
   "source": [
    "df_in.dtypes"
   ]
  },
  {
   "cell_type": "markdown",
   "id": "1bc2245f-baa7-4ef5-8814-347af48d6ab1",
   "metadata": {},
   "source": [
    "## 4.1. apply to walmart data"
   ]
  },
  {
   "cell_type": "code",
   "execution_count": 27,
   "id": "c0ef3247-7405-4ab2-a4ab-9a1a97efa305",
   "metadata": {},
   "outputs": [],
   "source": [
    "dtype_def ={\n",
    "    \"int64\": [\"Marital_Status\", \"Occupation\"], \n",
    "    \"float64\": [\"Purchase\"], \n",
    "    \"datetime64\": []\n",
    "}\n",
    "\n",
    "dc.convert_dtype_with_dtype_def(df_walmart, dtype_def)"
   ]
  },
  {
   "cell_type": "markdown",
   "id": "73f3abdd-ed61-4b67-ae7f-e5f1b7f70592",
   "metadata": {},
   "source": [
    "## 4.2. get describe after convertt dtype"
   ]
  },
  {
   "cell_type": "code",
   "execution_count": 28,
   "id": "ef769e5b-b6ac-41d6-9919-6c0a1ea7f4b7",
   "metadata": {},
   "outputs": [],
   "source": [
    "df_describe_af = pd.concat(\n",
    "    [\n",
    "        bs.get_unique_and_null_count(df_walmart), \n",
    "        bs.get_stats_numerical_column(df_walmart), \n",
    "        bs.get_and_shape_unique_value_count(df_walmart, max_seq=50)\n",
    "    ], axis=1\n",
    ")"
   ]
  },
  {
   "cell_type": "code",
   "execution_count": 29,
   "id": "33dd55ec-6510-4ecf-b22b-466e94631644",
   "metadata": {},
   "outputs": [],
   "source": [
    "df_describe_af = df_describe_af.reset_index().rename(columns={\"level_0\":\"column_id\", \"level_1\":\"column\", \"level_2\":\"DUMMY\"})\n",
    "df_describe_af.columns = [str(s) for s in df_describe_af.columns]"
   ]
  },
  {
   "cell_type": "markdown",
   "id": "9020fc04-95f5-4cfc-a496-6d527d2b8635",
   "metadata": {},
   "source": [
    "# 5. output"
   ]
  },
  {
   "cell_type": "markdown",
   "id": "341c7f0c-826f-40b3-9adb-04632714266a",
   "metadata": {},
   "source": [
    "## 5.1. align dtype of describe"
   ]
  },
  {
   "cell_type": "code",
   "execution_count": 30,
   "id": "bdc1be01-7daa-411a-baf0-eb1df3322681",
   "metadata": {},
   "outputs": [],
   "source": [
    "dtype_def_describe = dc.invert_dict_key_value(\n",
    "    {k:str(v) for k, v in df_describe_bf.dtypes.items()}, \n",
    "    value_type=\"str\"\n",
    ")\n",
    "_ = dtype_def_describe.pop(\"object\")\n",
    "dc.convert_dtype_with_dtype_def(df_describe_bf, dtype_def_describe)"
   ]
  },
  {
   "cell_type": "code",
   "execution_count": 31,
   "id": "b79c1a5f-1bab-4233-8122-1973eadd97ec",
   "metadata": {},
   "outputs": [],
   "source": [
    "dtype_def_describe = dc.invert_dict_key_value(\n",
    "    {k:str(v) for k, v in df_describe_af.dtypes.items()}, \n",
    "    value_type=\"str\"\n",
    ")\n",
    "_ = dtype_def_describe.pop(\"object\")\n",
    "dc.convert_dtype_with_dtype_def(df_describe_af, dtype_def_describe)"
   ]
  },
  {
   "cell_type": "markdown",
   "id": "100e1860-26d6-4d0c-bf1e-e0cd9edea2be",
   "metadata": {},
   "source": [
    "## 5.2. set output specification"
   ]
  },
  {
   "cell_type": "code",
   "execution_count": 32,
   "id": "d831f4f7-96ea-4f01-9870-de1807767803",
   "metadata": {},
   "outputs": [],
   "source": [
    "path_out = \"../data\"\n",
    "data_out_ = {\n",
    "    \"walmart\": df_walmart, \n",
    "    \"desc_01_bf\": df_describe_bf, \n",
    "    \"desc_02_af\": df_describe_af\n",
    "}"
   ]
  },
  {
   "cell_type": "markdown",
   "id": "7bc0c7a1-71d8-4f42-ac80-4f268d661952",
   "metadata": {},
   "source": [
    "## 5.3. do"
   ]
  },
  {
   "cell_type": "code",
   "execution_count": 33,
   "id": "74d7a4ae-8af9-4238-bd2d-6e5a948df9f7",
   "metadata": {},
   "outputs": [],
   "source": [
    "for k, v in data_out_.items(): \n",
    "    v.to_parquet(\"{}/{}.parquet\".format(path_out, k))\n",
    "\n",
    "    v.to_csv(\n",
    "        path_or_buf=\"{}/{}.csv\".format(path_out, k), \n",
    "        sep=\"\\t\", \n",
    "        quotechar=\"\\\"\", \n",
    "        quoting=1, ## quoting = QUOTE_MINIMAL (0), QUOTE_ALL (1), QUOTE_NONNUMERIC (2) or QUOTE_NONE (3).\n",
    "        encoding=\"utf-8\", \n",
    "        header=True, \n",
    "        index=False\n",
    "    )\n"
   ]
  },
  {
   "cell_type": "markdown",
   "id": "60793016-041f-4c67-9417-c5357f183e9a",
   "metadata": {},
   "source": [
    "# 6. read parquet file"
   ]
  },
  {
   "cell_type": "markdown",
   "id": "a5679549-b9cd-4c07-90eb-285fb686138a",
   "metadata": {},
   "source": [
    "## 6.1.  with dd"
   ]
  },
  {
   "cell_type": "code",
   "execution_count": 34,
   "id": "f8f3cf81-6105-4c75-8e8f-fac7327180fc",
   "metadata": {},
   "outputs": [],
   "source": [
    "import dask.dataframe as dd"
   ]
  },
  {
   "cell_type": "code",
   "execution_count": 35,
   "id": "14f23c2b-a722-45b0-b90f-997ce74f18a7",
   "metadata": {},
   "outputs": [],
   "source": [
    "dskdf_ = {}\n",
    "for k, v in data_out_.items(): \n",
    "    dskdf_[k] = dd.read_parquet((\"{}/{}.parquet\".format(path_out, k)))"
   ]
  },
  {
   "cell_type": "code",
   "execution_count": 36,
   "id": "2ac51dbf-46c8-4398-b356-c23e0108aed3",
   "metadata": {},
   "outputs": [],
   "source": [
    "df_walmart = dskdf_[\"walmart\"].compute()"
   ]
  },
  {
   "cell_type": "code",
   "execution_count": 37,
   "id": "26859410-a49c-4030-bebb-bc9a27401ecc",
   "metadata": {},
   "outputs": [
    {
     "data": {
      "text/plain": [
       "User_ID                       string[pyarrow]\n",
       "Product_ID                    string[pyarrow]\n",
       "Gender                        string[pyarrow]\n",
       "Age                           string[pyarrow]\n",
       "Occupation                              int64\n",
       "City_Category                 string[pyarrow]\n",
       "Stay_In_Current_City_Years    string[pyarrow]\n",
       "Marital_Status                          int64\n",
       "Product_Category              string[pyarrow]\n",
       "Purchase                              float64\n",
       "dtype: object"
      ]
     },
     "execution_count": 37,
     "metadata": {},
     "output_type": "execute_result"
    }
   ],
   "source": [
    "df_walmart.dtypes"
   ]
  },
  {
   "cell_type": "markdown",
   "id": "36aa5506-283c-4bd8-b5f1-8762305f1f4f",
   "metadata": {},
   "source": [
    "## 6.2.  with duck DB"
   ]
  },
  {
   "cell_type": "code",
   "execution_count": 38,
   "id": "012ed0ee-9b79-4537-865e-e23da0a43b75",
   "metadata": {},
   "outputs": [],
   "source": [
    "# !pip install duckdb ## ENABLE when factory reset\n",
    "import duckdb"
   ]
  },
  {
   "cell_type": "code",
   "execution_count": 39,
   "id": "61ea8b9d-9b0b-4dc7-a17c-7a8a856489b7",
   "metadata": {},
   "outputs": [
    {
     "name": "stdout",
     "output_type": "stream",
     "text": [
      "\n",
      "(\n",
      "    SELECT * FROM parquet_scan('../data/walmart.parquet') \n",
      ")\n",
      "\n"
     ]
    }
   ],
   "source": [
    "query_str = \"\"\"\n",
    "(\n",
    "    SELECT * FROM parquet_scan('{train_path}') \n",
    ")\n",
    "\"\"\".format(\n",
    "    train_path=\"{}/{}.parquet\".format(path_out, \"walmart\")\n",
    ")\n",
    "print(query_str)"
   ]
  },
  {
   "cell_type": "code",
   "execution_count": 40,
   "id": "d323eac9-0dd1-4ddb-9a43-b04ea6f2f0e4",
   "metadata": {},
   "outputs": [],
   "source": [
    "dckdf_ = {}\n",
    "\n",
    "con = duckdb.connect()\n",
    "dckdf_[\"walmart\"] = con.query(query_str).df()\n",
    "con.close()"
   ]
  },
  {
   "cell_type": "code",
   "execution_count": 41,
   "id": "e7b3193b-8461-4e99-a132-bf0e752721cd",
   "metadata": {},
   "outputs": [
    {
     "data": {
      "text/html": [
       "<div>\n",
       "<style scoped>\n",
       "    .dataframe tbody tr th:only-of-type {\n",
       "        vertical-align: middle;\n",
       "    }\n",
       "\n",
       "    .dataframe tbody tr th {\n",
       "        vertical-align: top;\n",
       "    }\n",
       "\n",
       "    .dataframe thead th {\n",
       "        text-align: right;\n",
       "    }\n",
       "</style>\n",
       "<table border=\"1\" class=\"dataframe\">\n",
       "  <thead>\n",
       "    <tr style=\"text-align: right;\">\n",
       "      <th></th>\n",
       "      <th>User_ID</th>\n",
       "      <th>Product_ID</th>\n",
       "      <th>Gender</th>\n",
       "      <th>Age</th>\n",
       "      <th>Occupation</th>\n",
       "      <th>City_Category</th>\n",
       "      <th>Stay_In_Current_City_Years</th>\n",
       "      <th>Marital_Status</th>\n",
       "      <th>Product_Category</th>\n",
       "      <th>Purchase</th>\n",
       "    </tr>\n",
       "  </thead>\n",
       "  <tbody>\n",
       "    <tr>\n",
       "      <th>0</th>\n",
       "      <td>1000001</td>\n",
       "      <td>P00069042</td>\n",
       "      <td>F</td>\n",
       "      <td>0-17</td>\n",
       "      <td>10</td>\n",
       "      <td>A</td>\n",
       "      <td>2</td>\n",
       "      <td>0</td>\n",
       "      <td>3</td>\n",
       "      <td>8370.0</td>\n",
       "    </tr>\n",
       "    <tr>\n",
       "      <th>1</th>\n",
       "      <td>1000001</td>\n",
       "      <td>P00248942</td>\n",
       "      <td>F</td>\n",
       "      <td>0-17</td>\n",
       "      <td>10</td>\n",
       "      <td>A</td>\n",
       "      <td>2</td>\n",
       "      <td>0</td>\n",
       "      <td>1</td>\n",
       "      <td>15200.0</td>\n",
       "    </tr>\n",
       "    <tr>\n",
       "      <th>2</th>\n",
       "      <td>1000001</td>\n",
       "      <td>P00087842</td>\n",
       "      <td>F</td>\n",
       "      <td>0-17</td>\n",
       "      <td>10</td>\n",
       "      <td>A</td>\n",
       "      <td>2</td>\n",
       "      <td>0</td>\n",
       "      <td>12</td>\n",
       "      <td>1422.0</td>\n",
       "    </tr>\n",
       "    <tr>\n",
       "      <th>3</th>\n",
       "      <td>1000001</td>\n",
       "      <td>P00085442</td>\n",
       "      <td>F</td>\n",
       "      <td>0-17</td>\n",
       "      <td>10</td>\n",
       "      <td>A</td>\n",
       "      <td>2</td>\n",
       "      <td>0</td>\n",
       "      <td>12</td>\n",
       "      <td>1057.0</td>\n",
       "    </tr>\n",
       "    <tr>\n",
       "      <th>4</th>\n",
       "      <td>1000002</td>\n",
       "      <td>P00285442</td>\n",
       "      <td>M</td>\n",
       "      <td>55+</td>\n",
       "      <td>16</td>\n",
       "      <td>C</td>\n",
       "      <td>4+</td>\n",
       "      <td>0</td>\n",
       "      <td>8</td>\n",
       "      <td>7969.0</td>\n",
       "    </tr>\n",
       "    <tr>\n",
       "      <th>...</th>\n",
       "      <td>...</td>\n",
       "      <td>...</td>\n",
       "      <td>...</td>\n",
       "      <td>...</td>\n",
       "      <td>...</td>\n",
       "      <td>...</td>\n",
       "      <td>...</td>\n",
       "      <td>...</td>\n",
       "      <td>...</td>\n",
       "      <td>...</td>\n",
       "    </tr>\n",
       "    <tr>\n",
       "      <th>550063</th>\n",
       "      <td>1006033</td>\n",
       "      <td>P00372445</td>\n",
       "      <td>M</td>\n",
       "      <td>51-55</td>\n",
       "      <td>13</td>\n",
       "      <td>B</td>\n",
       "      <td>1</td>\n",
       "      <td>1</td>\n",
       "      <td>20</td>\n",
       "      <td>368.0</td>\n",
       "    </tr>\n",
       "    <tr>\n",
       "      <th>550064</th>\n",
       "      <td>1006035</td>\n",
       "      <td>P00375436</td>\n",
       "      <td>F</td>\n",
       "      <td>26-35</td>\n",
       "      <td>1</td>\n",
       "      <td>C</td>\n",
       "      <td>3</td>\n",
       "      <td>0</td>\n",
       "      <td>20</td>\n",
       "      <td>371.0</td>\n",
       "    </tr>\n",
       "    <tr>\n",
       "      <th>550065</th>\n",
       "      <td>1006036</td>\n",
       "      <td>P00375436</td>\n",
       "      <td>F</td>\n",
       "      <td>26-35</td>\n",
       "      <td>15</td>\n",
       "      <td>B</td>\n",
       "      <td>4+</td>\n",
       "      <td>1</td>\n",
       "      <td>20</td>\n",
       "      <td>137.0</td>\n",
       "    </tr>\n",
       "    <tr>\n",
       "      <th>550066</th>\n",
       "      <td>1006038</td>\n",
       "      <td>P00375436</td>\n",
       "      <td>F</td>\n",
       "      <td>55+</td>\n",
       "      <td>1</td>\n",
       "      <td>C</td>\n",
       "      <td>2</td>\n",
       "      <td>0</td>\n",
       "      <td>20</td>\n",
       "      <td>365.0</td>\n",
       "    </tr>\n",
       "    <tr>\n",
       "      <th>550067</th>\n",
       "      <td>1006039</td>\n",
       "      <td>P00371644</td>\n",
       "      <td>F</td>\n",
       "      <td>46-50</td>\n",
       "      <td>0</td>\n",
       "      <td>B</td>\n",
       "      <td>4+</td>\n",
       "      <td>1</td>\n",
       "      <td>20</td>\n",
       "      <td>490.0</td>\n",
       "    </tr>\n",
       "  </tbody>\n",
       "</table>\n",
       "<p>550068 rows × 10 columns</p>\n",
       "</div>"
      ],
      "text/plain": [
       "        User_ID Product_ID Gender    Age  Occupation City_Category  \\\n",
       "0       1000001  P00069042      F   0-17          10             A   \n",
       "1       1000001  P00248942      F   0-17          10             A   \n",
       "2       1000001  P00087842      F   0-17          10             A   \n",
       "3       1000001  P00085442      F   0-17          10             A   \n",
       "4       1000002  P00285442      M    55+          16             C   \n",
       "...         ...        ...    ...    ...         ...           ...   \n",
       "550063  1006033  P00372445      M  51-55          13             B   \n",
       "550064  1006035  P00375436      F  26-35           1             C   \n",
       "550065  1006036  P00375436      F  26-35          15             B   \n",
       "550066  1006038  P00375436      F    55+           1             C   \n",
       "550067  1006039  P00371644      F  46-50           0             B   \n",
       "\n",
       "       Stay_In_Current_City_Years  Marital_Status Product_Category  Purchase  \n",
       "0                               2               0                3    8370.0  \n",
       "1                               2               0                1   15200.0  \n",
       "2                               2               0               12    1422.0  \n",
       "3                               2               0               12    1057.0  \n",
       "4                              4+               0                8    7969.0  \n",
       "...                           ...             ...              ...       ...  \n",
       "550063                          1               1               20     368.0  \n",
       "550064                          3               0               20     371.0  \n",
       "550065                         4+               1               20     137.0  \n",
       "550066                          2               0               20     365.0  \n",
       "550067                         4+               1               20     490.0  \n",
       "\n",
       "[550068 rows x 10 columns]"
      ]
     },
     "execution_count": 41,
     "metadata": {},
     "output_type": "execute_result"
    }
   ],
   "source": [
    "dckdf_[\"walmart\"]"
   ]
  }
 ],
 "metadata": {
  "kernelspec": {
   "display_name": "Python 3 (ipykernel)",
   "language": "python",
   "name": "python3"
  },
  "language_info": {
   "codemirror_mode": {
    "name": "ipython",
    "version": 3
   },
   "file_extension": ".py",
   "mimetype": "text/x-python",
   "name": "python",
   "nbconvert_exporter": "python",
   "pygments_lexer": "ipython3",
   "version": "3.11.6"
  }
 },
 "nbformat": 4,
 "nbformat_minor": 5
}
